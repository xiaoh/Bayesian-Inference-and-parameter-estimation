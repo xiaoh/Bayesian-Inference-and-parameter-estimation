{
 "cells": [
  {
   "cell_type": "markdown",
   "metadata": {},
   "source": [
    "# Covariance influence on posteriors in Bayesian framework"
   ]
  },
  {
   "cell_type": "markdown",
   "metadata": {},
   "source": [
    "This toy example is designed to investigate the influence of covariance on posterior distributions within a Bayesian framework. The data for this study are synthesized through a linear regression model, augmented with deviations characterized by a zero-mean Gaussian process. We examine the effects on posterior distributions by conducting analyses both with and without considering the covariance of the observations. By contrasting these approaches, we can uncover intriguing insights about the significance of covariance in the context of Bayesian inference."
   ]
  },
  {
   "cell_type": "code",
   "execution_count": 1,
   "metadata": {},
   "outputs": [],
   "source": [
    "import numpy as np\n",
    "import matplotlib.pyplot as plt\n",
    "import pymc3 as pm\n",
    "import re\n",
    "from scipy.stats import norm"
   ]
  },
  {
   "cell_type": "code",
   "execution_count": 40,
   "metadata": {},
   "outputs": [],
   "source": [
    "import matplotlib\n",
    "matplotlib.rcParams['text.usetex'] = True\n",
    "plt.rcParams.update({\n",
    "    \"text.usetex\": True,\n",
    "    \"font.family\": \"serif\",\n",
    "    \"font.serif\": [\"Palatino\"],\n",
    "})"
   ]
  },
  {
   "cell_type": "markdown",
   "metadata": {},
   "source": [
    "The function of pymc3"
   ]
  },
  {
   "cell_type": "code",
   "execution_count": 3,
   "metadata": {},
   "outputs": [],
   "source": [
    "def identity_transform(x):\n",
    "    \"\"\"f(x) = x\"\"\"\n",
    "    return x\n",
    "\n",
    "def get_transformed_name(name, transform):\n",
    "    \"\"\"\n",
    "    Consistent way of transforming names\n",
    "    Parameters\n",
    "    ----------\n",
    "    name : str\n",
    "        Name to transform\n",
    "    transform : transforms.Transform\n",
    "        Should be a subclass of `transforms.Transform`\n",
    "    Returns\n",
    "    -------\n",
    "    str\n",
    "        A string to use for the transformed variable\n",
    "    \"\"\"\n",
    "    return \"{}_{}__\".format(name, transform.name)\n",
    "\n",
    "def is_transformed_name(name):\n",
    "    \"\"\"\n",
    "    Quickly check if a name was transformed with `get_transormed_name`\n",
    "    Parameters\n",
    "    ----------\n",
    "    name : str\n",
    "        Name to check\n",
    "    Returns\n",
    "    -------\n",
    "    bool\n",
    "        Boolean, whether the string could have been produced by `get_transormed_name`\n",
    "    \"\"\"\n",
    "    return name.endswith('__') and name.count('_') >= 3\n",
    "\n",
    "def get_default_varnames(var_iterator, include_transformed):\n",
    "    \"\"\"Helper to extract default varnames from a trace.\n",
    "    Parameters\n",
    "    ----------\n",
    "    varname_iterator : iterator\n",
    "        Elements will be cast to string to check whether it is transformed, and optionally filtered\n",
    "    include_transformed : boolean\n",
    "        Should transformed variable names be included in return value\n",
    "    Returns\n",
    "    -------\n",
    "    list\n",
    "        List of variables, possibly filtered\n",
    "    \"\"\"\n",
    "    if include_transformed:\n",
    "        return list(var_iterator)\n",
    "    else:\n",
    "        return [var for var in var_iterator if not is_transformed_name(str(var))]\n",
    "\n",
    "def get_transformed(z):\n",
    "    if hasattr(z, 'transformed'):\n",
    "        z = z.transformed\n",
    "    return z"
   ]
  },
  {
   "cell_type": "markdown",
   "metadata": {},
   "source": [
    "# Observations"
   ]
  },
  {
   "cell_type": "markdown",
   "metadata": {},
   "source": [
    "Observations are generated from linear regression y=wx+b in which zero-mean Gaussian process deviation exists. The kernel of Gaussain process is exponential kernel with l=1 and sigma=0.5."
   ]
  },
  {
   "cell_type": "code",
   "execution_count": 4,
   "metadata": {},
   "outputs": [],
   "source": [
    "# Kernel\n",
    "def kernel(x, y, l=1, sigma=0.5):\n",
    "    return sigma**2*np.exp(-0.5*np.subtract.outer(x, y)**2/l**2)"
   ]
  },
  {
   "cell_type": "code",
   "execution_count": 33,
   "metadata": {},
   "outputs": [
    {
     "data": {
      "image/png": "[encoded data removed]",
      "text/plain": [
       "<Figure size 450x300 with 1 Axes>"
      ]
     },
     "metadata": {},
     "output_type": "display_data"
    }
   ],
   "source": [
    "fig = plt.figure(figsize=(4.5,3))\n",
    "\n",
    "# True value\n",
    "w0 = 0.5\n",
    "b0 = 1.0\n",
    "\n",
    "# Initialize random number generator\n",
    "np.random.seed(222)\n",
    "\n",
    "# interval of x\n",
    "xl = 0.0\n",
    "xu = 50.0\n",
    "\n",
    "# Total size of obervations\n",
    "Nobs = 1001\n",
    "x = np.linspace(xl, xu, Nobs)\n",
    "\n",
    "# In order to avoid singular\n",
    "coefficient = 1E-6\n",
    "b = coefficient*np.identity(Nobs)\n",
    "C = kernel(x,x) + b\n",
    "m = np.zeros(Nobs)\n",
    "\n",
    "y1 = w0*x + b0\n",
    "# observations\n",
    "y = w0*x + b0 + np.random.multivariate_normal(m,C)\n",
    "\n",
    "plt.plot(x[0::8],y[0::8],'o',markerfacecolor='none', ms=6, markeredgecolor='C0',markeredgewidth=1.2,label='Observations')\n",
    "plt.plot(x,y1,color='darkorange',linewidth=2.4,label='True model')\n",
    "plt.xlabel(r'$x$',fontsize=14)\n",
    "plt.ylabel(r'$y$',fontsize=14)\n",
    "plt.xticks(fontsize=13)\n",
    "plt.yticks(fontsize=13)\n",
    "plt.xlim([0,50])\n",
    "plt.ylim([0,27])\n",
    "plt.legend(fontsize=12)\n",
    "plt.savefig('../figs-new/dns-like-data.pdf',bbox_inches='tight')\n",
    "plt.show()"
   ]
  },
  {
   "cell_type": "markdown",
   "metadata": {},
   "source": [
    "# Calculate with PyMC3"
   ]
  },
  {
   "cell_type": "code",
   "execution_count": 34,
   "metadata": {},
   "outputs": [],
   "source": [
    "# PyMC3 Model help function\n",
    "# PyMC3 model without covariance\n",
    "def model_help(basic_model, data, x):    \n",
    "    with basic_model:\n",
    "        #prior\n",
    "        w = pm.Normal('w', mu=0.8, sd=2.0)\n",
    "        b = pm.Normal('b', mu=1.0, sd=2.0)\n",
    "        mu = w*x + b\n",
    "        y_o = pm.Normal('y_o', mu=mu, sd=0.5, observed=data)\n",
    "        trace = pm.sample(5000)\n",
    "    return trace\n",
    "\n",
    "# PyMC3 model with covariance\n",
    "def model_help_c(basic_model, data, x, C):    \n",
    "    with basic_model:\n",
    "        w = pm.Normal('w', mu=0.8, sd=2.0)\n",
    "        b = pm.Normal('b', mu=1.0, sd=2.0)\n",
    "        mu = w*x + b\n",
    "        Y_obs = pm.MvNormal('Y_obs', mu=mu, cov=C, observed=data)\n",
    "        trace = pm.sample(5000)\n",
    "    return trace"
   ]
  },
  {
   "cell_type": "code",
   "execution_count": 35,
   "metadata": {},
   "outputs": [
    {
     "name": "stderr",
     "output_type": "stream",
     "text": [
      "/var/folders/j_/_ppj_xzj0ls56k7cq_gjkvnm0000gn/T/ipykernel_12922/4120220417.py:11: DeprecationWarning: `np.int` is a deprecated alias for the builtin `int`. To silence this warning, use `int` by itself. Doing this will not modify any behavior and is safe. When replacing `np.int`, you may wish to use e.g. `np.int64` or `np.int32` to specify the precision. If you wish to review your current use, check the release note link for additional information.\n",
      "Deprecated in NumPy 1.20; for more details and guidance: https://numpy.org/devdocs/release/1.20.0-notes.html#deprecations\n",
      "  step = np.int(Nobs/nSelected)\n"
     ]
    },
    {
     "name": "stdout",
     "output_type": "stream",
     "text": [
      "# of observations: 2 ; Stepsize =  500\n"
     ]
    },
    {
     "name": "stderr",
     "output_type": "stream",
     "text": [
      "/var/folders/j_/_ppj_xzj0ls56k7cq_gjkvnm0000gn/T/ipykernel_12922/2539176738.py:10: FutureWarning: In v4.0, pm.sample will return an `arviz.InferenceData` object instead of a `MultiTrace` by default. You can pass return_inferencedata=True or return_inferencedata=False to be safe and silence this warning.\n",
      "  trace = pm.sample(5000)\n",
      "Auto-assigning NUTS sampler...\n",
      "Initializing NUTS using jitter+adapt_diag...\n",
      "Multiprocess sampling (4 chains in 4 jobs)\n",
      "NUTS: [b, w]\n"
     ]
    },
    {
     "data": {
      "text/html": [
       "\n",
       "<style>\n",
       "    /* Turns off some styling */\n",
       "    progress {\n",
       "        /* gets rid of default border in Firefox and Opera. */\n",
       "        border: none;\n",
       "        /* Needs to be in here for Safari polyfill so background images work as expected. */\n",
       "        background-size: auto;\n",
       "    }\n",
       "    progress:not([value]), progress:not([value])::-webkit-progress-bar {\n",
       "        background: repeating-linear-gradient(45deg, #7e7e7e, #7e7e7e 10px, #5c5c5c 10px, #5c5c5c 20px);\n",
       "    }\n",
       "    .progress-bar-interrupted, .progress-bar-interrupted::-webkit-progress-bar {\n",
       "        background: #F44336;\n",
       "    }\n",
       "</style>\n"
      ],
      "text/plain": [
       "<IPython.core.display.HTML object>"
      ]
     },
     "metadata": {},
     "output_type": "display_data"
    },
    {
     "data": {
      "text/html": [
       "\n",
       "    <div>\n",
       "      <progress value='24000' class='' max='24000' style='width:300px; height:20px; vertical-align: middle;'></progress>\n",
       "      100.00% [24000/24000 00:01&lt;00:00 Sampling 4 chains, 0 divergences]\n",
       "    </div>\n",
       "    "
      ],
      "text/plain": [
       "<IPython.core.display.HTML object>"
      ]
     },
     "metadata": {},
     "output_type": "display_data"
    },
    {
     "name": "stderr",
     "output_type": "stream",
     "text": [
      "/opt/miniconda3/lib/python3.9/site-packages/scipy/stats/_continuous_distns.py:624: RuntimeWarning: overflow encountered in _beta_ppf\n",
      "  return _boost._beta_ppf(q, a, b)\n",
      "/opt/miniconda3/lib/python3.9/site-packages/scipy/stats/_continuous_distns.py:624: RuntimeWarning: overflow encountered in _beta_ppf\n",
      "  return _boost._beta_ppf(q, a, b)\n",
      "/opt/miniconda3/lib/python3.9/site-packages/scipy/stats/_continuous_distns.py:624: RuntimeWarning: overflow encountered in _beta_ppf\n",
      "  return _boost._beta_ppf(q, a, b)\n",
      "/opt/miniconda3/lib/python3.9/site-packages/scipy/stats/_continuous_distns.py:624: RuntimeWarning: overflow encountered in _beta_ppf\n",
      "  return _boost._beta_ppf(q, a, b)\n",
      "Sampling 4 chains for 1_000 tune and 5_000 draw iterations (4_000 + 20_000 draws total) took 8 seconds.\n",
      "/var/folders/j_/_ppj_xzj0ls56k7cq_gjkvnm0000gn/T/ipykernel_12922/2539176738.py:20: FutureWarning: In v4.0, pm.sample will return an `arviz.InferenceData` object instead of a `MultiTrace` by default. You can pass return_inferencedata=True or return_inferencedata=False to be safe and silence this warning.\n",
      "  trace = pm.sample(5000)\n",
      "Auto-assigning NUTS sampler...\n",
      "Initializing NUTS using jitter+adapt_diag...\n",
      "Multiprocess sampling (4 chains in 4 jobs)\n",
      "NUTS: [b, w]\n"
     ]
    },
    {
     "data": {
      "text/html": [
       "\n",
       "<style>\n",
       "    /* Turns off some styling */\n",
       "    progress {\n",
       "        /* gets rid of default border in Firefox and Opera. */\n",
       "        border: none;\n",
       "        /* Needs to be in here for Safari polyfill so background images work as expected. */\n",
       "        background-size: auto;\n",
       "    }\n",
       "    progress:not([value]), progress:not([value])::-webkit-progress-bar {\n",
       "        background: repeating-linear-gradient(45deg, #7e7e7e, #7e7e7e 10px, #5c5c5c 10px, #5c5c5c 20px);\n",
       "    }\n",
       "    .progress-bar-interrupted, .progress-bar-interrupted::-webkit-progress-bar {\n",
       "        background: #F44336;\n",
       "    }\n",
       "</style>\n"
      ],
      "text/plain": [
       "<IPython.core.display.HTML object>"
      ]
     },
     "metadata": {},
     "output_type": "display_data"
    },
    {
     "data": {
      "text/html": [
       "\n",
       "    <div>\n",
       "      <progress value='24000' class='' max='24000' style='width:300px; height:20px; vertical-align: middle;'></progress>\n",
       "      100.00% [24000/24000 00:02&lt;00:00 Sampling 4 chains, 0 divergences]\n",
       "    </div>\n",
       "    "
      ],
      "text/plain": [
       "<IPython.core.display.HTML object>"
      ]
     },
     "metadata": {},
     "output_type": "display_data"
    },
    {
     "name": "stderr",
     "output_type": "stream",
     "text": [
      "/opt/miniconda3/lib/python3.9/site-packages/scipy/stats/_continuous_distns.py:624: RuntimeWarning: overflow encountered in _beta_ppf\n",
      "  return _boost._beta_ppf(q, a, b)\n",
      "/opt/miniconda3/lib/python3.9/site-packages/scipy/stats/_continuous_distns.py:624: RuntimeWarning: overflow encountered in _beta_ppf\n",
      "  return _boost._beta_ppf(q, a, b)\n",
      "/opt/miniconda3/lib/python3.9/site-packages/scipy/stats/_continuous_distns.py:624: RuntimeWarning: overflow encountered in _beta_ppf\n",
      "  return _boost._beta_ppf(q, a, b)\n",
      "/opt/miniconda3/lib/python3.9/site-packages/scipy/stats/_continuous_distns.py:624: RuntimeWarning: overflow encountered in _beta_ppf\n",
      "  return _boost._beta_ppf(q, a, b)\n",
      "Sampling 4 chains for 1_000 tune and 5_000 draw iterations (4_000 + 20_000 draws total) took 9 seconds.\n",
      "/var/folders/j_/_ppj_xzj0ls56k7cq_gjkvnm0000gn/T/ipykernel_12922/4120220417.py:11: DeprecationWarning: `np.int` is a deprecated alias for the builtin `int`. To silence this warning, use `int` by itself. Doing this will not modify any behavior and is safe. When replacing `np.int`, you may wish to use e.g. `np.int64` or `np.int32` to specify the precision. If you wish to review your current use, check the release note link for additional information.\n",
      "Deprecated in NumPy 1.20; for more details and guidance: https://numpy.org/devdocs/release/1.20.0-notes.html#deprecations\n",
      "  step = np.int(Nobs/nSelected)\n",
      "/var/folders/j_/_ppj_xzj0ls56k7cq_gjkvnm0000gn/T/ipykernel_12922/2539176738.py:10: FutureWarning: In v4.0, pm.sample will return an `arviz.InferenceData` object instead of a `MultiTrace` by default. You can pass return_inferencedata=True or return_inferencedata=False to be safe and silence this warning.\n",
      "  trace = pm.sample(5000)\n",
      "Auto-assigning NUTS sampler...\n",
      "Initializing NUTS using jitter+adapt_diag...\n"
     ]
    },
    {
     "name": "stdout",
     "output_type": "stream",
     "text": [
      "# of observations: 10 ; Stepsize =  100\n"
     ]
    },
    {
     "name": "stderr",
     "output_type": "stream",
     "text": [
      "Multiprocess sampling (4 chains in 4 jobs)\n",
      "NUTS: [b, w]\n"
     ]
    },
    {
     "data": {
      "text/html": [
       "\n",
       "<style>\n",
       "    /* Turns off some styling */\n",
       "    progress {\n",
       "        /* gets rid of default border in Firefox and Opera. */\n",
       "        border: none;\n",
       "        /* Needs to be in here for Safari polyfill so background images work as expected. */\n",
       "        background-size: auto;\n",
       "    }\n",
       "    progress:not([value]), progress:not([value])::-webkit-progress-bar {\n",
       "        background: repeating-linear-gradient(45deg, #7e7e7e, #7e7e7e 10px, #5c5c5c 10px, #5c5c5c 20px);\n",
       "    }\n",
       "    .progress-bar-interrupted, .progress-bar-interrupted::-webkit-progress-bar {\n",
       "        background: #F44336;\n",
       "    }\n",
       "</style>\n"
      ],
      "text/plain": [
       "<IPython.core.display.HTML object>"
      ]
     },
     "metadata": {},
     "output_type": "display_data"
    },
    {
     "data": {
      "text/html": [
       "\n",
       "    <div>\n",
       "      <progress value='24000' class='' max='24000' style='width:300px; height:20px; vertical-align: middle;'></progress>\n",
       "      100.00% [24000/24000 00:02&lt;00:00 Sampling 4 chains, 0 divergences]\n",
       "    </div>\n",
       "    "
      ],
      "text/plain": [
       "<IPython.core.display.HTML object>"
      ]
     },
     "metadata": {},
     "output_type": "display_data"
    },
    {
     "name": "stderr",
     "output_type": "stream",
     "text": [
      "/opt/miniconda3/lib/python3.9/site-packages/scipy/stats/_continuous_distns.py:624: RuntimeWarning: overflow encountered in _beta_ppf\n",
      "  return _boost._beta_ppf(q, a, b)\n",
      "/opt/miniconda3/lib/python3.9/site-packages/scipy/stats/_continuous_distns.py:624: RuntimeWarning: overflow encountered in _beta_ppf\n",
      "  return _boost._beta_ppf(q, a, b)\n",
      "/opt/miniconda3/lib/python3.9/site-packages/scipy/stats/_continuous_distns.py:624: RuntimeWarning: overflow encountered in _beta_ppf\n",
      "  return _boost._beta_ppf(q, a, b)\n",
      "/opt/miniconda3/lib/python3.9/site-packages/scipy/stats/_continuous_distns.py:624: RuntimeWarning: overflow encountered in _beta_ppf\n",
      "  return _boost._beta_ppf(q, a, b)\n",
      "Sampling 4 chains for 1_000 tune and 5_000 draw iterations (4_000 + 20_000 draws total) took 7 seconds.\n",
      "The number of effective samples is smaller than 25% for some parameters.\n",
      "/var/folders/j_/_ppj_xzj0ls56k7cq_gjkvnm0000gn/T/ipykernel_12922/2539176738.py:20: FutureWarning: In v4.0, pm.sample will return an `arviz.InferenceData` object instead of a `MultiTrace` by default. You can pass return_inferencedata=True or return_inferencedata=False to be safe and silence this warning.\n",
      "  trace = pm.sample(5000)\n",
      "Auto-assigning NUTS sampler...\n",
      "Initializing NUTS using jitter+adapt_diag...\n",
      "Multiprocess sampling (4 chains in 4 jobs)\n",
      "NUTS: [b, w]\n"
     ]
    },
    {
     "data": {
      "text/html": [
       "\n",
       "<style>\n",
       "    /* Turns off some styling */\n",
       "    progress {\n",
       "        /* gets rid of default border in Firefox and Opera. */\n",
       "        border: none;\n",
       "        /* Needs to be in here for Safari polyfill so background images work as expected. */\n",
       "        background-size: auto;\n",
       "    }\n",
       "    progress:not([value]), progress:not([value])::-webkit-progress-bar {\n",
       "        background: repeating-linear-gradient(45deg, #7e7e7e, #7e7e7e 10px, #5c5c5c 10px, #5c5c5c 20px);\n",
       "    }\n",
       "    .progress-bar-interrupted, .progress-bar-interrupted::-webkit-progress-bar {\n",
       "        background: #F44336;\n",
       "    }\n",
       "</style>\n"
      ],
      "text/plain": [
       "<IPython.core.display.HTML object>"
      ]
     },
     "metadata": {},
     "output_type": "display_data"
    },
    {
     "data": {
      "text/html": [
       "\n",
       "    <div>\n",
       "      <progress value='24000' class='' max='24000' style='width:300px; height:20px; vertical-align: middle;'></progress>\n",
       "      100.00% [24000/24000 00:02&lt;00:00 Sampling 4 chains, 0 divergences]\n",
       "    </div>\n",
       "    "
      ],
      "text/plain": [
       "<IPython.core.display.HTML object>"
      ]
     },
     "metadata": {},
     "output_type": "display_data"
    },
    {
     "name": "stderr",
     "output_type": "stream",
     "text": [
      "/opt/miniconda3/lib/python3.9/site-packages/scipy/stats/_continuous_distns.py:624: RuntimeWarning: overflow encountered in _beta_ppf\n",
      "  return _boost._beta_ppf(q, a, b)\n",
      "/opt/miniconda3/lib/python3.9/site-packages/scipy/stats/_continuous_distns.py:624: RuntimeWarning: overflow encountered in _beta_ppf\n",
      "  return _boost._beta_ppf(q, a, b)\n",
      "/opt/miniconda3/lib/python3.9/site-packages/scipy/stats/_continuous_distns.py:624: RuntimeWarning: overflow encountered in _beta_ppf\n",
      "  return _boost._beta_ppf(q, a, b)\n",
      "/opt/miniconda3/lib/python3.9/site-packages/scipy/stats/_continuous_distns.py:624: RuntimeWarning: overflow encountered in _beta_ppf\n",
      "  return _boost._beta_ppf(q, a, b)\n",
      "Sampling 4 chains for 1_000 tune and 5_000 draw iterations (4_000 + 20_000 draws total) took 9 seconds.\n",
      "The acceptance probability does not match the target. It is 0.880905441585973, but should be close to 0.8. Try to increase the number of tuning steps.\n",
      "The number of effective samples is smaller than 25% for some parameters.\n",
      "/var/folders/j_/_ppj_xzj0ls56k7cq_gjkvnm0000gn/T/ipykernel_12922/4120220417.py:11: DeprecationWarning: `np.int` is a deprecated alias for the builtin `int`. To silence this warning, use `int` by itself. Doing this will not modify any behavior and is safe. When replacing `np.int`, you may wish to use e.g. `np.int64` or `np.int32` to specify the precision. If you wish to review your current use, check the release note link for additional information.\n",
      "Deprecated in NumPy 1.20; for more details and guidance: https://numpy.org/devdocs/release/1.20.0-notes.html#deprecations\n",
      "  step = np.int(Nobs/nSelected)\n",
      "/var/folders/j_/_ppj_xzj0ls56k7cq_gjkvnm0000gn/T/ipykernel_12922/2539176738.py:10: FutureWarning: In v4.0, pm.sample will return an `arviz.InferenceData` object instead of a `MultiTrace` by default. You can pass return_inferencedata=True or return_inferencedata=False to be safe and silence this warning.\n",
      "  trace = pm.sample(5000)\n",
      "Auto-assigning NUTS sampler...\n",
      "Initializing NUTS using jitter+adapt_diag...\n"
     ]
    },
    {
     "name": "stdout",
     "output_type": "stream",
     "text": [
      "# of observations: 50 ; Stepsize =  20\n"
     ]
    },
    {
     "name": "stderr",
     "output_type": "stream",
     "text": [
      "Multiprocess sampling (4 chains in 4 jobs)\n",
      "NUTS: [b, w]\n"
     ]
    },
    {
     "data": {
      "text/html": [
       "\n",
       "<style>\n",
       "    /* Turns off some styling */\n",
       "    progress {\n",
       "        /* gets rid of default border in Firefox and Opera. */\n",
       "        border: none;\n",
       "        /* Needs to be in here for Safari polyfill so background images work as expected. */\n",
       "        background-size: auto;\n",
       "    }\n",
       "    progress:not([value]), progress:not([value])::-webkit-progress-bar {\n",
       "        background: repeating-linear-gradient(45deg, #7e7e7e, #7e7e7e 10px, #5c5c5c 10px, #5c5c5c 20px);\n",
       "    }\n",
       "    .progress-bar-interrupted, .progress-bar-interrupted::-webkit-progress-bar {\n",
       "        background: #F44336;\n",
       "    }\n",
       "</style>\n"
      ],
      "text/plain": [
       "<IPython.core.display.HTML object>"
      ]
     },
     "metadata": {},
     "output_type": "display_data"
    },
    {
     "data": {
      "text/html": [
       "\n",
       "    <div>\n",
       "      <progress value='24000' class='' max='24000' style='width:300px; height:20px; vertical-align: middle;'></progress>\n",
       "      100.00% [24000/24000 00:02&lt;00:00 Sampling 4 chains, 0 divergences]\n",
       "    </div>\n",
       "    "
      ],
      "text/plain": [
       "<IPython.core.display.HTML object>"
      ]
     },
     "metadata": {},
     "output_type": "display_data"
    },
    {
     "name": "stderr",
     "output_type": "stream",
     "text": [
      "/opt/miniconda3/lib/python3.9/site-packages/scipy/stats/_continuous_distns.py:624: RuntimeWarning: overflow encountered in _beta_ppf\n",
      "  return _boost._beta_ppf(q, a, b)\n",
      "/opt/miniconda3/lib/python3.9/site-packages/scipy/stats/_continuous_distns.py:624: RuntimeWarning: overflow encountered in _beta_ppf\n",
      "  return _boost._beta_ppf(q, a, b)\n",
      "/opt/miniconda3/lib/python3.9/site-packages/scipy/stats/_continuous_distns.py:624: RuntimeWarning: overflow encountered in _beta_ppf\n",
      "  return _boost._beta_ppf(q, a, b)\n",
      "/opt/miniconda3/lib/python3.9/site-packages/scipy/stats/_continuous_distns.py:624: RuntimeWarning: overflow encountered in _beta_ppf\n",
      "  return _boost._beta_ppf(q, a, b)\n",
      "Sampling 4 chains for 1_000 tune and 5_000 draw iterations (4_000 + 20_000 draws total) took 8 seconds.\n",
      "The acceptance probability does not match the target. It is 0.8786269527286168, but should be close to 0.8. Try to increase the number of tuning steps.\n",
      "The number of effective samples is smaller than 25% for some parameters.\n",
      "/var/folders/j_/_ppj_xzj0ls56k7cq_gjkvnm0000gn/T/ipykernel_12922/2539176738.py:20: FutureWarning: In v4.0, pm.sample will return an `arviz.InferenceData` object instead of a `MultiTrace` by default. You can pass return_inferencedata=True or return_inferencedata=False to be safe and silence this warning.\n",
      "  trace = pm.sample(5000)\n",
      "Auto-assigning NUTS sampler...\n",
      "Initializing NUTS using jitter+adapt_diag...\n",
      "Multiprocess sampling (4 chains in 4 jobs)\n",
      "NUTS: [b, w]\n"
     ]
    },
    {
     "data": {
      "text/html": [
       "\n",
       "<style>\n",
       "    /* Turns off some styling */\n",
       "    progress {\n",
       "        /* gets rid of default border in Firefox and Opera. */\n",
       "        border: none;\n",
       "        /* Needs to be in here for Safari polyfill so background images work as expected. */\n",
       "        background-size: auto;\n",
       "    }\n",
       "    progress:not([value]), progress:not([value])::-webkit-progress-bar {\n",
       "        background: repeating-linear-gradient(45deg, #7e7e7e, #7e7e7e 10px, #5c5c5c 10px, #5c5c5c 20px);\n",
       "    }\n",
       "    .progress-bar-interrupted, .progress-bar-interrupted::-webkit-progress-bar {\n",
       "        background: #F44336;\n",
       "    }\n",
       "</style>\n"
      ],
      "text/plain": [
       "<IPython.core.display.HTML object>"
      ]
     },
     "metadata": {},
     "output_type": "display_data"
    },
    {
     "data": {
      "text/html": [
       "\n",
       "    <div>\n",
       "      <progress value='24000' class='' max='24000' style='width:300px; height:20px; vertical-align: middle;'></progress>\n",
       "      100.00% [24000/24000 00:03&lt;00:00 Sampling 4 chains, 0 divergences]\n",
       "    </div>\n",
       "    "
      ],
      "text/plain": [
       "<IPython.core.display.HTML object>"
      ]
     },
     "metadata": {},
     "output_type": "display_data"
    },
    {
     "name": "stderr",
     "output_type": "stream",
     "text": [
      "/opt/miniconda3/lib/python3.9/site-packages/scipy/stats/_continuous_distns.py:624: RuntimeWarning: overflow encountered in _beta_ppf\n",
      "  return _boost._beta_ppf(q, a, b)\n",
      "/opt/miniconda3/lib/python3.9/site-packages/scipy/stats/_continuous_distns.py:624: RuntimeWarning: overflow encountered in _beta_ppf\n",
      "  return _boost._beta_ppf(q, a, b)\n",
      "/opt/miniconda3/lib/python3.9/site-packages/scipy/stats/_continuous_distns.py:624: RuntimeWarning: overflow encountered in _beta_ppf\n",
      "  return _boost._beta_ppf(q, a, b)\n",
      "/opt/miniconda3/lib/python3.9/site-packages/scipy/stats/_continuous_distns.py:624: RuntimeWarning: overflow encountered in _beta_ppf\n",
      "  return _boost._beta_ppf(q, a, b)\n",
      "Sampling 4 chains for 1_000 tune and 5_000 draw iterations (4_000 + 20_000 draws total) took 9 seconds.\n",
      "The number of effective samples is smaller than 25% for some parameters.\n",
      "/var/folders/j_/_ppj_xzj0ls56k7cq_gjkvnm0000gn/T/ipykernel_12922/4120220417.py:11: DeprecationWarning: `np.int` is a deprecated alias for the builtin `int`. To silence this warning, use `int` by itself. Doing this will not modify any behavior and is safe. When replacing `np.int`, you may wish to use e.g. `np.int64` or `np.int32` to specify the precision. If you wish to review your current use, check the release note link for additional information.\n",
      "Deprecated in NumPy 1.20; for more details and guidance: https://numpy.org/devdocs/release/1.20.0-notes.html#deprecations\n",
      "  step = np.int(Nobs/nSelected)\n",
      "/var/folders/j_/_ppj_xzj0ls56k7cq_gjkvnm0000gn/T/ipykernel_12922/2539176738.py:10: FutureWarning: In v4.0, pm.sample will return an `arviz.InferenceData` object instead of a `MultiTrace` by default. You can pass return_inferencedata=True or return_inferencedata=False to be safe and silence this warning.\n",
      "  trace = pm.sample(5000)\n",
      "Auto-assigning NUTS sampler...\n",
      "Initializing NUTS using jitter+adapt_diag...\n"
     ]
    },
    {
     "name": "stdout",
     "output_type": "stream",
     "text": [
      "# of observations: 200 ; Stepsize =  5\n"
     ]
    },
    {
     "name": "stderr",
     "output_type": "stream",
     "text": [
      "Multiprocess sampling (4 chains in 4 jobs)\n",
      "NUTS: [b, w]\n"
     ]
    },
    {
     "data": {
      "text/html": [
       "\n",
       "<style>\n",
       "    /* Turns off some styling */\n",
       "    progress {\n",
       "        /* gets rid of default border in Firefox and Opera. */\n",
       "        border: none;\n",
       "        /* Needs to be in here for Safari polyfill so background images work as expected. */\n",
       "        background-size: auto;\n",
       "    }\n",
       "    progress:not([value]), progress:not([value])::-webkit-progress-bar {\n",
       "        background: repeating-linear-gradient(45deg, #7e7e7e, #7e7e7e 10px, #5c5c5c 10px, #5c5c5c 20px);\n",
       "    }\n",
       "    .progress-bar-interrupted, .progress-bar-interrupted::-webkit-progress-bar {\n",
       "        background: #F44336;\n",
       "    }\n",
       "</style>\n"
      ],
      "text/plain": [
       "<IPython.core.display.HTML object>"
      ]
     },
     "metadata": {},
     "output_type": "display_data"
    },
    {
     "data": {
      "text/html": [
       "\n",
       "    <div>\n",
       "      <progress value='24000' class='' max='24000' style='width:300px; height:20px; vertical-align: middle;'></progress>\n",
       "      100.00% [24000/24000 00:02&lt;00:00 Sampling 4 chains, 0 divergences]\n",
       "    </div>\n",
       "    "
      ],
      "text/plain": [
       "<IPython.core.display.HTML object>"
      ]
     },
     "metadata": {},
     "output_type": "display_data"
    },
    {
     "name": "stderr",
     "output_type": "stream",
     "text": [
      "/opt/miniconda3/lib/python3.9/site-packages/scipy/stats/_continuous_distns.py:624: RuntimeWarning: overflow encountered in _beta_ppf\n",
      "  return _boost._beta_ppf(q, a, b)\n",
      "/opt/miniconda3/lib/python3.9/site-packages/scipy/stats/_continuous_distns.py:624: RuntimeWarning: overflow encountered in _beta_ppf\n",
      "  return _boost._beta_ppf(q, a, b)\n",
      "/opt/miniconda3/lib/python3.9/site-packages/scipy/stats/_continuous_distns.py:624: RuntimeWarning: overflow encountered in _beta_ppf\n",
      "  return _boost._beta_ppf(q, a, b)\n",
      "/opt/miniconda3/lib/python3.9/site-packages/scipy/stats/_continuous_distns.py:624: RuntimeWarning: overflow encountered in _beta_ppf\n",
      "  return _boost._beta_ppf(q, a, b)\n",
      "Sampling 4 chains for 1_000 tune and 5_000 draw iterations (4_000 + 20_000 draws total) took 8 seconds.\n",
      "The acceptance probability does not match the target. It is 0.8787145148034681, but should be close to 0.8. Try to increase the number of tuning steps.\n",
      "The acceptance probability does not match the target. It is 0.8815328239737499, but should be close to 0.8. Try to increase the number of tuning steps.\n",
      "The number of effective samples is smaller than 25% for some parameters.\n",
      "/var/folders/j_/_ppj_xzj0ls56k7cq_gjkvnm0000gn/T/ipykernel_12922/2539176738.py:20: FutureWarning: In v4.0, pm.sample will return an `arviz.InferenceData` object instead of a `MultiTrace` by default. You can pass return_inferencedata=True or return_inferencedata=False to be safe and silence this warning.\n",
      "  trace = pm.sample(5000)\n",
      "Auto-assigning NUTS sampler...\n",
      "Initializing NUTS using jitter+adapt_diag...\n",
      "Multiprocess sampling (4 chains in 4 jobs)\n",
      "NUTS: [b, w]\n"
     ]
    },
    {
     "data": {
      "text/html": [
       "\n",
       "<style>\n",
       "    /* Turns off some styling */\n",
       "    progress {\n",
       "        /* gets rid of default border in Firefox and Opera. */\n",
       "        border: none;\n",
       "        /* Needs to be in here for Safari polyfill so background images work as expected. */\n",
       "        background-size: auto;\n",
       "    }\n",
       "    progress:not([value]), progress:not([value])::-webkit-progress-bar {\n",
       "        background: repeating-linear-gradient(45deg, #7e7e7e, #7e7e7e 10px, #5c5c5c 10px, #5c5c5c 20px);\n",
       "    }\n",
       "    .progress-bar-interrupted, .progress-bar-interrupted::-webkit-progress-bar {\n",
       "        background: #F44336;\n",
       "    }\n",
       "</style>\n"
      ],
      "text/plain": [
       "<IPython.core.display.HTML object>"
      ]
     },
     "metadata": {},
     "output_type": "display_data"
    },
    {
     "data": {
      "text/html": [
       "\n",
       "    <div>\n",
       "      <progress value='24000' class='' max='24000' style='width:300px; height:20px; vertical-align: middle;'></progress>\n",
       "      100.00% [24000/24000 00:05&lt;00:00 Sampling 4 chains, 0 divergences]\n",
       "    </div>\n",
       "    "
      ],
      "text/plain": [
       "<IPython.core.display.HTML object>"
      ]
     },
     "metadata": {},
     "output_type": "display_data"
    },
    {
     "name": "stderr",
     "output_type": "stream",
     "text": [
      "/opt/miniconda3/lib/python3.9/site-packages/scipy/stats/_continuous_distns.py:624: RuntimeWarning: overflow encountered in _beta_ppf\n",
      "  return _boost._beta_ppf(q, a, b)\n",
      "/opt/miniconda3/lib/python3.9/site-packages/scipy/stats/_continuous_distns.py:624: RuntimeWarning: overflow encountered in _beta_ppf\n",
      "  return _boost._beta_ppf(q, a, b)\n",
      "/opt/miniconda3/lib/python3.9/site-packages/scipy/stats/_continuous_distns.py:624: RuntimeWarning: overflow encountered in _beta_ppf\n",
      "  return _boost._beta_ppf(q, a, b)\n",
      "/opt/miniconda3/lib/python3.9/site-packages/scipy/stats/_continuous_distns.py:624: RuntimeWarning: overflow encountered in _beta_ppf\n",
      "  return _boost._beta_ppf(q, a, b)\n",
      "Sampling 4 chains for 1_000 tune and 5_000 draw iterations (4_000 + 20_000 draws total) took 11 seconds.\n",
      "The acceptance probability does not match the target. It is 0.8818522080763596, but should be close to 0.8. Try to increase the number of tuning steps.\n",
      "The number of effective samples is smaller than 25% for some parameters.\n",
      "/var/folders/j_/_ppj_xzj0ls56k7cq_gjkvnm0000gn/T/ipykernel_12922/4120220417.py:11: DeprecationWarning: `np.int` is a deprecated alias for the builtin `int`. To silence this warning, use `int` by itself. Doing this will not modify any behavior and is safe. When replacing `np.int`, you may wish to use e.g. `np.int64` or `np.int32` to specify the precision. If you wish to review your current use, check the release note link for additional information.\n",
      "Deprecated in NumPy 1.20; for more details and guidance: https://numpy.org/devdocs/release/1.20.0-notes.html#deprecations\n",
      "  step = np.int(Nobs/nSelected)\n",
      "/var/folders/j_/_ppj_xzj0ls56k7cq_gjkvnm0000gn/T/ipykernel_12922/2539176738.py:10: FutureWarning: In v4.0, pm.sample will return an `arviz.InferenceData` object instead of a `MultiTrace` by default. You can pass return_inferencedata=True or return_inferencedata=False to be safe and silence this warning.\n",
      "  trace = pm.sample(5000)\n",
      "Auto-assigning NUTS sampler...\n",
      "Initializing NUTS using jitter+adapt_diag...\n"
     ]
    },
    {
     "name": "stdout",
     "output_type": "stream",
     "text": [
      "# of observations: 500 ; Stepsize =  2\n"
     ]
    },
    {
     "name": "stderr",
     "output_type": "stream",
     "text": [
      "Multiprocess sampling (4 chains in 4 jobs)\n",
      "NUTS: [b, w]\n"
     ]
    },
    {
     "data": {
      "text/html": [
       "\n",
       "<style>\n",
       "    /* Turns off some styling */\n",
       "    progress {\n",
       "        /* gets rid of default border in Firefox and Opera. */\n",
       "        border: none;\n",
       "        /* Needs to be in here for Safari polyfill so background images work as expected. */\n",
       "        background-size: auto;\n",
       "    }\n",
       "    progress:not([value]), progress:not([value])::-webkit-progress-bar {\n",
       "        background: repeating-linear-gradient(45deg, #7e7e7e, #7e7e7e 10px, #5c5c5c 10px, #5c5c5c 20px);\n",
       "    }\n",
       "    .progress-bar-interrupted, .progress-bar-interrupted::-webkit-progress-bar {\n",
       "        background: #F44336;\n",
       "    }\n",
       "</style>\n"
      ],
      "text/plain": [
       "<IPython.core.display.HTML object>"
      ]
     },
     "metadata": {},
     "output_type": "display_data"
    },
    {
     "data": {
      "text/html": [
       "\n",
       "    <div>\n",
       "      <progress value='24000' class='' max='24000' style='width:300px; height:20px; vertical-align: middle;'></progress>\n",
       "      100.00% [24000/24000 00:02&lt;00:00 Sampling 4 chains, 0 divergences]\n",
       "    </div>\n",
       "    "
      ],
      "text/plain": [
       "<IPython.core.display.HTML object>"
      ]
     },
     "metadata": {},
     "output_type": "display_data"
    },
    {
     "name": "stderr",
     "output_type": "stream",
     "text": [
      "/opt/miniconda3/lib/python3.9/site-packages/scipy/stats/_continuous_distns.py:624: RuntimeWarning: overflow encountered in _beta_ppf\n",
      "  return _boost._beta_ppf(q, a, b)\n",
      "/opt/miniconda3/lib/python3.9/site-packages/scipy/stats/_continuous_distns.py:624: RuntimeWarning: overflow encountered in _beta_ppf\n",
      "  return _boost._beta_ppf(q, a, b)\n",
      "/opt/miniconda3/lib/python3.9/site-packages/scipy/stats/_continuous_distns.py:624: RuntimeWarning: overflow encountered in _beta_ppf\n",
      "  return _boost._beta_ppf(q, a, b)\n",
      "/opt/miniconda3/lib/python3.9/site-packages/scipy/stats/_continuous_distns.py:624: RuntimeWarning: overflow encountered in _beta_ppf\n",
      "  return _boost._beta_ppf(q, a, b)\n",
      "Sampling 4 chains for 1_000 tune and 5_000 draw iterations (4_000 + 20_000 draws total) took 8 seconds.\n",
      "The acceptance probability does not match the target. It is 0.8806105100784888, but should be close to 0.8. Try to increase the number of tuning steps.\n",
      "The acceptance probability does not match the target. It is 0.8848859626731006, but should be close to 0.8. Try to increase the number of tuning steps.\n",
      "The number of effective samples is smaller than 25% for some parameters.\n",
      "/var/folders/j_/_ppj_xzj0ls56k7cq_gjkvnm0000gn/T/ipykernel_12922/2539176738.py:20: FutureWarning: In v4.0, pm.sample will return an `arviz.InferenceData` object instead of a `MultiTrace` by default. You can pass return_inferencedata=True or return_inferencedata=False to be safe and silence this warning.\n",
      "  trace = pm.sample(5000)\n",
      "Auto-assigning NUTS sampler...\n",
      "Initializing NUTS using jitter+adapt_diag...\n",
      "Multiprocess sampling (4 chains in 4 jobs)\n",
      "NUTS: [b, w]\n"
     ]
    },
    {
     "data": {
      "text/html": [
       "\n",
       "<style>\n",
       "    /* Turns off some styling */\n",
       "    progress {\n",
       "        /* gets rid of default border in Firefox and Opera. */\n",
       "        border: none;\n",
       "        /* Needs to be in here for Safari polyfill so background images work as expected. */\n",
       "        background-size: auto;\n",
       "    }\n",
       "    progress:not([value]), progress:not([value])::-webkit-progress-bar {\n",
       "        background: repeating-linear-gradient(45deg, #7e7e7e, #7e7e7e 10px, #5c5c5c 10px, #5c5c5c 20px);\n",
       "    }\n",
       "    .progress-bar-interrupted, .progress-bar-interrupted::-webkit-progress-bar {\n",
       "        background: #F44336;\n",
       "    }\n",
       "</style>\n"
      ],
      "text/plain": [
       "<IPython.core.display.HTML object>"
      ]
     },
     "metadata": {},
     "output_type": "display_data"
    },
    {
     "data": {
      "text/html": [
       "\n",
       "    <div>\n",
       "      <progress value='24000' class='' max='24000' style='width:300px; height:20px; vertical-align: middle;'></progress>\n",
       "      100.00% [24000/24000 00:17&lt;00:00 Sampling 4 chains, 0 divergences]\n",
       "    </div>\n",
       "    "
      ],
      "text/plain": [
       "<IPython.core.display.HTML object>"
      ]
     },
     "metadata": {},
     "output_type": "display_data"
    },
    {
     "name": "stderr",
     "output_type": "stream",
     "text": [
      "/opt/miniconda3/lib/python3.9/site-packages/scipy/stats/_continuous_distns.py:624: RuntimeWarning: overflow encountered in _beta_ppf\n",
      "  return _boost._beta_ppf(q, a, b)\n",
      "/opt/miniconda3/lib/python3.9/site-packages/scipy/stats/_continuous_distns.py:624: RuntimeWarning: overflow encountered in _beta_ppf\n",
      "  return _boost._beta_ppf(q, a, b)\n",
      "/opt/miniconda3/lib/python3.9/site-packages/scipy/stats/_continuous_distns.py:624: RuntimeWarning: overflow encountered in _beta_ppf\n",
      "  return _boost._beta_ppf(q, a, b)\n",
      "/opt/miniconda3/lib/python3.9/site-packages/scipy/stats/_continuous_distns.py:624: RuntimeWarning: overflow encountered in _beta_ppf\n",
      "  return _boost._beta_ppf(q, a, b)\n",
      "Sampling 4 chains for 1_000 tune and 5_000 draw iterations (4_000 + 20_000 draws total) took 23 seconds.\n",
      "The acceptance probability does not match the target. It is 0.8902280600954866, but should be close to 0.8. Try to increase the number of tuning steps.\n",
      "The number of effective samples is smaller than 25% for some parameters.\n"
     ]
    }
   ],
   "source": [
    "# Results\n",
    "posteriors = []\n",
    "posteriors_C = []\n",
    "\n",
    "#nObsUsed = np.array([2, 5, 10, 20, 50, 200, 500])\n",
    "\n",
    "NobsUsed = np.array([2, 10, 50, 200, 500])\n",
    "\n",
    "i = 1\n",
    "for nSelected in NobsUsed:\n",
    "    step = np.int(Nobs/nSelected)        \n",
    "    print('# of observations:', nSelected, '; Stepsize = ', step)\n",
    "\n",
    "    # Observations of each iteration\n",
    "    x0 = x[::step]\n",
    "    y0 = y[::step]\n",
    "    \n",
    "    #plt.figure(i)\n",
    "    #plt.plot(x0, y0, 'o')\n",
    "    #continue\n",
    "    \n",
    "    # calculate poteriors without covariance\n",
    "    basic_model = pm.Model()\n",
    "    trace = model_help(basic_model, y0, x0)\n",
    "    posteriors.append(trace)\n",
    "    \n",
    "    # Kernel of observations\n",
    "    C = kernel(x0,x0) + coefficient*np.identity(len(x0))\n",
    "    \n",
    "    # calculate poteriors with covariance\n",
    "    basic_model_C = pm.Model()\n",
    "    trace_C = model_help_c(basic_model_C,y0,x0,C)\n",
    "    posteriors_C.append(trace_C)\n",
    "    i+=1"
   ]
  },
  {
   "cell_type": "code",
   "execution_count": 125,
   "metadata": {},
   "outputs": [],
   "source": [
    "# font1 = {'family' : 'Times New Roman', 'weight' : 'normal', 'size'   : 9}\n",
    "# Plot posteriors help function\n",
    "def plot_posteriors(posteriors,posteriors_C,Ns):   \n",
    "    iterate = len(posteriors)\n",
    "    plot_transformed = False\n",
    "    transform = identity_transform\n",
    "    wp = np.zeros(iterate);stdw = np.zeros(iterate)\n",
    "    bp = np.zeros(iterate);stdb = np.zeros(iterate)\n",
    "    wpC = np.zeros(iterate);stdwC = np.zeros(iterate)\n",
    "    bpC = np.zeros(iterate);stdbC = np.zeros(iterate)\n",
    "    \n",
    "    data_w = [];data_w_C = [];data_b = [];data_b_C = []\n",
    "    for i in range(0, iterate):\n",
    "        p = posteriors[i]\n",
    "        varnames = get_default_varnames(p.varnames, plot_transformed)\n",
    "        w = p.get_values(varnames[0], combine=False, squeeze=False)\n",
    "        w = np.squeeze(transform(w))\n",
    "        b = p.get_values(varnames[1], combine=False, squeeze=False)\n",
    "        b = np.squeeze(transform(b))\n",
    "        wp[i] = np.mean(w);stdw[i] = np.std(w)\n",
    "        bp[i] = np.mean(b);stdb[i] = np.std(b)\n",
    "        data_w.append(w);data_b.append(b)\n",
    "        \n",
    "        pC = posteriors_C[i]\n",
    "        varnamesC = get_default_varnames(pC.varnames, plot_transformed)\n",
    "        wC = pC.get_values(varnamesC[0], combine=False, squeeze=False)\n",
    "        wC = np.squeeze(transform(wC))\n",
    "        bC = pC.get_values(varnamesC[1], combine=False, squeeze=False)\n",
    "        bC = np.squeeze(transform(bC))\n",
    "        wpC[i] = np.mean(wC); stdwC[i] = np.std(wC)\n",
    "        bpC[i] = np.mean(bC); stdbC[i] = np.std(bC)\n",
    "        data_w_C.append(wC)\n",
    "        data_b_C.append(bC)\n",
    "        \n",
    "    wl = wpC[0] - 2.5*stdwC[0]; wu = wpC[0] + 2.5*stdwC[0]\n",
    "    bl = bpC[0] - 2.5*stdbC[0]; bu = bpC[0] + 2.5*stdbC[0]\n",
    "    wplot = np.linspace(wl, wu, 400)\n",
    "    bplot = np.linspace(bl, bu, 400)\n",
    "    nn = np.zeros(iterate)\n",
    "    maxw = np.zeros(iterate);maxb = np.zeros(iterate)\n",
    "    #n = np.int(N/iterate);n0=n\n",
    "    for i in range(0,iterate):\n",
    "        nn[i] = Ns[i]\n",
    "        # n += n0\n",
    "    plt.figure(0)\n",
    "    fig, axs = plt.subplots(1,2,figsize=(6.4, 3.6))\n",
    "    axs = axs.ravel()\n",
    "    for i in range(0,iterate):\n",
    "        w_l = norm(wp[i],stdw[i]).pdf(wplot)\n",
    "        w_lC = norm(wpC[i],stdwC[i]).pdf(wplot)\n",
    "        maxw[i] = max(w_l)\n",
    "        axs[0].plot(wplot,w_l,label='N=%d' % nn[i],linewidth=1.8)\n",
    "        axs[1].plot(wplot,w_lC,label='N=%d' % nn[i],linewidth=1.8)\n",
    "        #n += n0\n",
    "    axs[0].legend(prop=font1);axs[1].legend(prop=font1)\n",
    "    axs[0].set_xlabel(r'$w$, w/o covariance',fontsize=13)\n",
    "    axs[1].set_xlabel(r'$w$, w/ covariance',fontsize=13)\n",
    "    axs[0].set_ylabel('PDF',fontsize=13)\n",
    "    maxpw = max(maxw)+5\n",
    "    axs[0].axis([wl, wu, -1, maxpw])\n",
    "    axs[1].axis([wl, wu, -1, maxpw])\n",
    "    axs[0].tick_params(axis='x', labelsize=13)\n",
    "    axs[0].tick_params(axis='y', labelsize=13)\n",
    "    axs[1].tick_params(axis='x', labelsize=13)\n",
    "    axs[1].tick_params(axis='y', labelsize=13)\n",
    "    axs[0].legend(fontsize=10)\n",
    "    axs[1].legend(fontsize=10)\n",
    "\n",
    "    \n",
    "    fig.tight_layout(pad=1.5)\n",
    "    fig.savefig('../figs-new/W_posterior.pdf',bbox_inches='tight')\n",
    "    plt.show()\n",
    "    \n",
    "#     plt.figure(1)\n",
    "#     fig, axs = plt.subplots(1,2)\n",
    "#     axs = axs.ravel()\n",
    "#     for i in range(0,iterate):\n",
    "#         b_l = norm(bp[i],stdb[i]).pdf(bplot)\n",
    "#         maxb[i] = max(b_l)\n",
    "#         b_lC = norm(bpC[i],stdbC[i]).pdf(bplot)\n",
    "#         axs[0].plot(bplot,b_l,label='N=%d' % nn[i])\n",
    "#         axs[1].plot(bplot,b_lC,label='N=%d' % nn[i])\n",
    "#         #n += n0\n",
    "#     axs[0].legend(prop=font1);axs[1].legend(prop=font1)\n",
    "#     axs[0].set_xlabel('b without covariance')\n",
    "#     axs[1].set_xlabel('b with covariance')\n",
    "#     axs[0].set_ylabel('PDF')\n",
    "#     maxpb = max(maxb)+0.5\n",
    "#     axs[0].axis([bl, bu, -0.1, maxpb])\n",
    "#     axs[1].axis([bl, bu, -0.1, maxpb])\n",
    "# #     fig.savefig('b_posterior.pdf')\n",
    "#     plt.show()\n",
    "    \n",
    "    plt.figure(2)\n",
    "    fig, axs = plt.subplots(1,figsize=(3.05, 3.6))\n",
    "#     axs = axs.ravel()\n",
    "    for i in range(4,5):\n",
    "        w_l = norm(wp[i],stdw[i]).pdf(wplot)\n",
    "        w_lC = norm(wpC[i],stdwC[i]).pdf(wplot)\n",
    "        axs.plot(wplot,w_l,label = 'w/o cov.',linewidth=1.8)\n",
    "        axs.plot(wplot,w_lC,label = 'w/ cov.',linewidth=1.8)\n",
    "        axs.axis([wl, wu, -1, maxpw])\n",
    "        axs.legend(prop=font1)\n",
    "        axs.set_xlabel(r'$w$',fontsize=13)\n",
    "        axs.set_ylabel('PDF',fontsize=13)\n",
    "        axs.tick_params(axis='x', labelsize=13)\n",
    "        axs.tick_params(axis='y', labelsize=13)\n",
    "        axs.legend(fontsize=10)\n",
    "        #n += n0\n",
    "    fig.savefig('../figs-new/compare-n500.pdf',bbox_inches='tight')\n",
    "    plt.show()\n",
    "    \n",
    "#     plt.figure(3)\n",
    "#     fig, axs = plt.subplots(1,iterate,figsize=(15, 6))\n",
    "#     axs = axs.ravel()\n",
    "#     for i in range(0,iterate):\n",
    "#         b_l = norm(bp[i],stdb[i]).pdf(bplot)\n",
    "#         b_lC = norm(bpC[i],stdbC[i]).pdf(bplot)\n",
    "#         axs[i].plot(bplot,b_l,label = 'N=%d Nocov' % nn[i])\n",
    "#         axs[i].plot(bplot,b_lC,label = 'N=%d Cov' % nn[i])\n",
    "#         axs[i].axis([bl, bu, -0.1, maxpb])\n",
    "#         axs[i].legend(prop=font1)\n",
    "#         #n += n0\n",
    "#     plt.show()\n",
    "# #     fig.savefig('Compare-each-Ns.pdf')\n",
    "    \n",
    "#     plt.figure(4)\n",
    "#     fig, axs = plt.subplots(2,1)\n",
    "#     axs = axs.ravel()\n",
    "#     axs[0].loglog(nn,stdw, '-o', label='No cov')\n",
    "#     axs[0].loglog(nn,stdwC, '-s', label = 'cov')\n",
    "#     axs[0].legend(prop=font1)\n",
    "#     axs[0].set_ylabel('Std of w')\n",
    "#     axs[1].loglog(nn,stdw, '-o', label='No cov')\n",
    "#     axs[1].loglog(nn,stdwC, '-s', label = 'cov')\n",
    "#     axs[1].legend(prop=font1)\n",
    "#     axs[1].set_xlabel('Number of observations')\n",
    "#     axs[1].set_ylabel('Std of b')\n",
    "#     plt.show()\n",
    "#     fig.savefig('std.pdf')"
   ]
  },
  {
   "cell_type": "code",
   "execution_count": 126,
   "metadata": {},
   "outputs": [
    {
     "data": {
      "text/plain": [
       "<Figure size 640x480 with 0 Axes>"
      ]
     },
     "metadata": {},
     "output_type": "display_data"
    },
    {
     "data": {
      "image/png": "[encoded data removed]",
      "text/plain": [
       "<Figure size 640x360 with 2 Axes>"
      ]
     },
     "metadata": {},
     "output_type": "display_data"
    },
    {
     "data": {
      "text/plain": [
       "<Figure size 640x480 with 0 Axes>"
      ]
     },
     "metadata": {},
     "output_type": "display_data"
    },
    {
     "data": {
      "image/png": "[encoded data removed]",
      "text/plain": [
       "<Figure size 305x360 with 1 Axes>"
      ]
     },
     "metadata": {},
     "output_type": "display_data"
    }
   ],
   "source": [
    "# plot results\n",
    "NobsUsed = np.array([2, 10, 50, 200, 500])\n",
    "plot_posteriors(posteriors, posteriors_C, NobsUsed)"
   ]
  },
  {
   "cell_type": "markdown",
   "metadata": {},
   "source": [
    "# Conclusion"
   ]
  },
  {
   "cell_type": "markdown",
   "metadata": {},
   "source": [
    "From the posteriors with and without covariace, several conclusion can be obtained:\n",
    "     1. Covariance have significant influence on posteriors in Bayesian framework. Therefore, in practice engineering problems, we should be carefull of using Bayesian framework.\n",
    "     2. With the increasing number of observations, the standard deviation of posteriors with covariance will not decrease shapely. It will decrease a little firstly, then  converge to a value.\n",
    "     3. However,with the increasing number of observations, the standard deviation of posterior without covariance decreases shapely firstly then converges. This convergent value is much smaller than the corresponding value with covariance."
   ]
  },
  {
   "cell_type": "code",
   "execution_count": null,
   "metadata": {},
   "outputs": [],
   "source": []
  },
  {
   "cell_type": "code",
   "execution_count": null,
   "metadata": {},
   "outputs": [],
   "source": []
  },
  {
   "cell_type": "code",
   "execution_count": null,
   "metadata": {},
   "outputs": [],
   "source": []
  }
 ],
 "metadata": {
  "kernelspec": {
   "display_name": "Python 3 (ipykernel)",
   "language": "python",
   "name": "python3"
  },
  "language_info": {
   "codemirror_mode": {
    "name": "ipython",
    "version": 3
   },
   "file_extension": ".py",
   "mimetype": "text/x-python",
   "name": "python",
   "nbconvert_exporter": "python",
   "pygments_lexer": "ipython3",
   "version": "3.9.12"
  }
 },
 "nbformat": 4,
 "nbformat_minor": 2
}
