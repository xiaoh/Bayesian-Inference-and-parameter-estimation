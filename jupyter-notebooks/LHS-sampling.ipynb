{
 "cells": [
  {
   "cell_type": "code",
   "execution_count": 1,
   "id": "a6265491",
   "metadata": {},
   "outputs": [],
   "source": [
    "import numpy as np\n",
    "import matplotlib.pyplot as plt\n",
    "import random"
   ]
  },
  {
   "cell_type": "code",
   "execution_count": 2,
   "id": "3f512ee4",
   "metadata": {},
   "outputs": [],
   "source": [
    "# Set the random seed\n",
    "random.seed(102)"
   ]
  },
  {
   "cell_type": "code",
   "execution_count": 7,
   "id": "699255ea",
   "metadata": {},
   "outputs": [],
   "source": [
    "import matplotlib\n",
    "matplotlib.rcParams['text.usetex'] = True\n",
    "plt.rcParams.update({\n",
    "    \"text.usetex\": True,\n",
    "    \"font.family\": \"serif\",\n",
    "    \"font.serif\": [\"Palatino\"],\n",
    "})"
   ]
  },
  {
   "cell_type": "code",
   "execution_count": 4,
   "id": "b748375b",
   "metadata": {},
   "outputs": [],
   "source": [
    "def LHS_2D_uniform(n):\n",
    "    \"\"\" Latin hypercube sampling \"\"\"\n",
    "    lower = np.arange(0,n)/n # lower limits of partitions \n",
    "    upper = np.arange(1,n+1)/n\n",
    "    points = np.random.uniform(low=lower,high=upper,size=[2,n]).T \n",
    "    np.random.shuffle(points[:,1])\n",
    "    return points"
   ]
  },
  {
   "cell_type": "code",
   "execution_count": 5,
   "id": "d8c963d6",
   "metadata": {},
   "outputs": [],
   "source": [
    "N = 20\n",
    "points_LHS = LHS_2D_uniform(N) # LHS sampling\n",
    "points_random = np.array([(random.uniform(0, 1), random.uniform(0, 1)) for _ in range(N)]) # random sampling"
   ]
  },
  {
   "cell_type": "code",
   "execution_count": 8,
   "id": "fd1a766b",
   "metadata": {},
   "outputs": [
    {
     "data": {
      "image/png": "[encoded data removed]",
      "text/plain": [
       "<Figure size 760x385 with 2 Axes>"
      ]
     },
     "metadata": {},
     "output_type": "display_data"
    }
   ],
   "source": [
    "fig = plt.figure(figsize=(7.6,3.85))\n",
    "ax0 = fig.add_subplot(1, 2, 1)\n",
    "ax1 = fig.add_subplot(1, 2, 2)\n",
    "ax0.scatter(points_random[:,0],points_random[:,1],marker='*')\n",
    "ax0.set_xlabel(r'$\\theta_1$',fontsize=14)\n",
    "ax0.set_ylabel(r'$\\theta_2$',fontsize=14)\n",
    "ax0.set_title('(a) random',fontsize=13)\n",
    "ax1.scatter(points_LHS[:,0],points_LHS[:,1],marker='*')\n",
    "ax1.set_xlabel(r'$\\theta_1$',fontsize=14)\n",
    "ax1.set_ylabel(r'$\\theta_2$',fontsize=14)\n",
    "ax1.set_title('(b) LHS',fontsize=13)\n",
    "ax0.set_xlim(0,1)\n",
    "ax0.set_ylim(0,1)\n",
    "ax1.set_xlim(0,1)\n",
    "ax1.set_ylim(0,1)\n",
    "\n",
    "# Add vertical and horizontal lines at intervals of 0.05\n",
    "for i in range(1, 20):\n",
    "    ax1.axvline(i/20, color='gray', alpha=0.5, linestyle='-', linewidth=0.5)\n",
    "    ax1.axhline(i/20, color='gray', alpha=0.5, linestyle='-', linewidth=0.5)\n",
    "\n",
    "ax0.tick_params(axis='x', labelsize=13)\n",
    "ax0.tick_params(axis='y', labelsize=13)\n",
    "ax1.tick_params(axis='x', labelsize=13)\n",
    "ax1.tick_params(axis='y', labelsize=13)\n",
    "fig.tight_layout(pad=1.0)\n",
    "# plt.savefig('../figs-new/random-vs-LHS.pdf',bbox_inches='tight')\n",
    "plt.show()"
   ]
  },
  {
   "cell_type": "code",
   "execution_count": null,
   "id": "fec238f3",
   "metadata": {},
   "outputs": [],
   "source": []
  },
  {
   "cell_type": "code",
   "execution_count": null,
   "id": "ac4588f2",
   "metadata": {},
   "outputs": [],
   "source": []
  },
  {
   "cell_type": "code",
   "execution_count": null,
   "id": "cafd4709",
   "metadata": {},
   "outputs": [],
   "source": []
  },
  {
   "cell_type": "code",
   "execution_count": null,
   "id": "dd1fea00",
   "metadata": {},
   "outputs": [],
   "source": []
  }
 ],
 "metadata": {
  "kernelspec": {
   "display_name": "Python 3.9 (pytorch)",
   "language": "python",
   "name": "pytorch"
  },
  "language_info": {
   "codemirror_mode": {
    "name": "ipython",
    "version": 3
   },
   "file_extension": ".py",
   "mimetype": "text/x-python",
   "name": "python",
   "nbconvert_exporter": "python",
   "pygments_lexer": "ipython3",
   "version": "3.9.13"
  }
 },
 "nbformat": 4,
 "nbformat_minor": 5
}
